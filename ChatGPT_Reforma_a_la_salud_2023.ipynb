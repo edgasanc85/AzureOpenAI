{
  "nbformat": 4,
  "nbformat_minor": 0,
  "metadata": {
    "colab": {
      "provenance": [],
      "authorship_tag": "ABX9TyPHMI6cgWR37QA+CknC1fvb",
      "include_colab_link": true
    },
    "kernelspec": {
      "name": "python3",
      "display_name": "Python 3"
    },
    "language_info": {
      "name": "python"
    }
  },
  "cells": [
    {
      "cell_type": "markdown",
      "metadata": {
        "id": "view-in-github",
        "colab_type": "text"
      },
      "source": [
        "<a href=\"https://colab.research.google.com/github/edgasanc85/AzureOpenAI/blob/main/ChatGPT_Reforma_a_la_salud_2023.ipynb\" target=\"_parent\"><img src=\"https://colab.research.google.com/assets/colab-badge.svg\" alt=\"Open In Colab\"/></a>"
      ]
    },
    {
      "cell_type": "markdown",
      "source": [
        "# ChatBot basado en el documento de reforma al sistema de salud"
      ],
      "metadata": {
        "id": "kgnv8u98v2eT"
      }
    },
    {
      "cell_type": "code",
      "source": [
        "%%capture\n",
        "!pip install langchain langchain-openai pypdf openai chromadb tiktoken"
      ],
      "metadata": {
        "id": "3E7_YmZywKse"
      },
      "execution_count": 1,
      "outputs": []
    },
    {
      "cell_type": "code",
      "source": [
        "from getpass import getpass\n",
        "import os\n",
        "import openai\n",
        "\n",
        "openai.api_type = \"azure\"\n",
        "openai.api_base = getpass('Enter the end point: ')\n",
        "openai.api_base = openai.api_base\n",
        "openai.api_version = \"2023-07-01-preview\"\n",
        "\n",
        "openai.api_key = getpass('Enter the secret value: ')\n",
        "os.environ['OPENAI_API_KEY'] = openai.api_key\n",
        "\n",
        "os.environ[\"AZURE_OPENAI_ENDPOINT\"] = openai.api_base\n",
        "os.environ[\"AZURE_OPENAI_API_KEY\"] = openai.api_key"
      ],
      "metadata": {
        "colab": {
          "base_uri": "https://localhost:8080/"
        },
        "id": "eE7wiGEvwTXS",
        "outputId": "0d7bf807-10fd-4b91-dd6d-94077688cab8"
      },
      "execution_count": 2,
      "outputs": [
        {
          "name": "stdout",
          "output_type": "stream",
          "text": [
            "Enter the end point: ··········\n",
            "Enter the secret value: ··········\n"
          ]
        }
      ]
    },
    {
      "cell_type": "markdown",
      "source": [
        "## Carga de documentos"
      ],
      "metadata": {
        "id": "VQw8uR8nwoH1"
      }
    },
    {
      "cell_type": "code",
      "source": [
        "import requests\n",
        "from langchain.document_loaders import PyPDFLoader\n",
        "\n",
        "urls = [\n",
        "    'https://edgasanc.com/storage/230213-Reforma-salud.pdf'\n",
        "]\n",
        "\n",
        "ml_papers = []\n",
        "\n",
        "for i, url in enumerate(urls):\n",
        "    response = requests.get(url)\n",
        "    filename = f'paper{i+1}.pdf'\n",
        "    with open(filename, 'wb') as f:\n",
        "        f.write(response.content)\n",
        "        print(f'Descargado {filename}')\n",
        "\n",
        "        loader = PyPDFLoader(filename)\n",
        "        data = loader.load()\n",
        "        ml_papers.extend(data)\n",
        "\n",
        "# Utiliza la lista ml_papers para acceder a los elementos de todos los documentos descargados\n",
        "print('Contenido de ml_papers:')\n",
        "print()"
      ],
      "metadata": {
        "colab": {
          "base_uri": "https://localhost:8080/"
        },
        "id": "OiPK8SHlwpJl",
        "outputId": "d9acd174-7718-4e9b-c355-f78b27dc3e9a"
      },
      "execution_count": 8,
      "outputs": [
        {
          "output_type": "stream",
          "name": "stdout",
          "text": [
            "Descargado paper1.pdf\n",
            "Contenido de ml_papers:\n",
            "\n"
          ]
        }
      ]
    },
    {
      "cell_type": "code",
      "source": [
        "type(ml_papers), len(ml_papers), ml_papers[6]"
      ],
      "metadata": {
        "colab": {
          "base_uri": "https://localhost:8080/"
        },
        "id": "gBvCUz8RxCrw",
        "outputId": "4324737e-7eec-490a-ae41-f1d8db32be22"
      },
      "execution_count": 9,
      "outputs": [
        {
          "output_type": "execute_result",
          "data": {
            "text/plain": [
              "(list,\n",
              " 290,\n",
              " Document(page_content='normativas, evaluar el funcionamiento del Sistema de Salud y generar informes periódicos sobre el desenvolvimiento del mismo.  Composición. El Consejo Nacional de Salud estará conformado así:  1. Cinco (5) representantes del Gobierno Nacional: el Ministro de Salud y Protección Social, quien presidirá; el ministro de Hacienda; el Ministro de Trabajo; el Director de Planeación Nacional y el Ministro de Medio Ambiente y Desarrollo Sostenible.  2. Tres (3) representantes de las Secretarías territoriales de Salud. 3. Dos (2) representantes del sector empresarial: uno de las grandes empresas y uno de las pequeñas y medianas empresas, elegidos por sus asociaciones. 4. Dos (2) representantes de las centrales obreras. 5. Dos (2) representantes de las asociaciones campesinas. 6. Siete (7) representantes de las organizaciones de pacientes, uno por cada región sociocultural del país (Central, Pacífica, Atlántica, Eje cafetero, Nororiental, Orinoquia y Amazonia). 7. Tres (3) representantes de comunidades étnicas: uno (1) de los pueblos indígenas, uno (1) de las comunidades afrocolombianas y uno (1) de la comunidad ROM. 8. Un (1) representante de las organizaciones de la población en condiciones de discapacidad. 9. Un (1) representante de las comunidades LGBTIQ+. 10. Una (1) representante de asuntos de la mujer y perspectiva de género. 11. Dos (2) representantes de las asociaciones de instituciones prestadoras de servicios de salud: uno estatal y uno privado. 12. Un (1) representante de la Academia Nacional de Medicina, entidad consultora del Gobierno Nacional. 13. Un (1) representante de la Federación Médica Colombiana, entidad consultora del Gobierno Nacional. 14. Un (1) representante de la profesión de Enfermería. 15. Un (1) representante de las facultades de Ciencias de la Salud. 16. Un (1) representante de las facultades y programas de Salud Pública. 17. Un (1) representante de los estudiantes de Ciencias de la Salud. 18. Dos (2) representantes de las demás organizaciones de trabajadores no médicos de la salud: uno profesional y otro no profesional. 19. Un (1) representante de los pensionados. 20. Dos (2) representantes de los Centros de Atención Primaria Integral Resolutiva en Salud, uno estatal y uno privado.  El Superintendente Nacional de Salud y el director de la Administradora de Recursos para la Salud (ADRES) formarán parte del Consejo con voz pero sin voto.  Parágrafo 1: Elección de los miembros no gubernamentales. Los representantes no gubernamentales serán elegidos directamente por cada una de las organizaciones correspondientes, de acuerdo con la reglamentación que establezca el Ministerio de Salud y Protección Social, con base en principios democráticos, de representatividad, transparencia, e imparcialidad. El Ministerio de Salud y Protección Social deberá expedir dicha reglamentación en los 6 meses siguientes a la expedición de la Ley. Igualmente se reglamentará la designación de los representantes de los Centros de Atención Primaria Integrales Resolutivos en Salud.  ', metadata={'source': 'paper1.pdf', 'page': 6}))"
            ]
          },
          "metadata": {},
          "execution_count": 9
        }
      ]
    },
    {
      "cell_type": "markdown",
      "source": [
        "## Split de documents"
      ],
      "metadata": {
        "id": "KIe00DgRzEpk"
      }
    },
    {
      "cell_type": "code",
      "source": [
        "from langchain.text_splitter import RecursiveCharacterTextSplitter\n",
        "\n",
        "text_splitter = RecursiveCharacterTextSplitter(\n",
        "    chunk_size= 1500,\n",
        "    chunk_overlap= 200, #caracteres que se repiten en el fragmento pasado y siguiente para que tenga continuidad\n",
        "    length_function= len\n",
        "    )\n",
        "\n",
        "documents = text_splitter.split_documents(ml_papers)"
      ],
      "metadata": {
        "id": "J-CcL5LYzFkX"
      },
      "execution_count": 10,
      "outputs": []
    },
    {
      "cell_type": "code",
      "source": [
        "len(documents), documents[10]"
      ],
      "metadata": {
        "colab": {
          "base_uri": "https://localhost:8080/"
        },
        "id": "r1U8bif2zKIR",
        "outputId": "bb017f06-0db8-43c5-f116-072a84893c39"
      },
      "execution_count": 11,
      "outputs": [
        {
          "output_type": "execute_result",
          "data": {
            "text/plain": [
              "(784,\n",
              " Document(page_content='Sistema de Salud son las de financiamiento, de administración y gestión de salud, de prestación de servicios de salud, de información, de participación social y de inspección, vigilancia y control, definidas en la presente Ley. 21. Entidades Promotoras de Salud: Las entidades promotoras de salud son las entidades públicas, privadas o mixtas que ejercerán actividades de acuerdo a lo que disponga la presente ley y su reglamentación.    CAPÍTULO II.  DETERMINANTES SOCIALES DE LA SALUD', metadata={'source': 'paper1.pdf', 'page': 3}))"
            ]
          },
          "metadata": {},
          "execution_count": 11
        }
      ]
    },
    {
      "cell_type": "markdown",
      "source": [
        "## Embeddings e ingesta a base de datos vectorial"
      ],
      "metadata": {
        "id": "swRz5jqBzOQP"
      }
    },
    {
      "cell_type": "code",
      "source": [
        "from langchain_openai import AzureOpenAIEmbeddings\n",
        "from langchain.vectorstores import Chroma\n",
        "\n",
        "embeddings = AzureOpenAIEmbeddings(\n",
        "    azure_deployment=\"demo_embedding-ada\",\n",
        "    openai_api_version=\"2023-07-01-preview\",\n",
        ")\n",
        "\n",
        "vectorstore = Chroma.from_documents(\n",
        "    documents=documents,\n",
        "    embedding=embeddings\n",
        ")\n",
        "\n",
        "retriever = vectorstore.as_retriever(\n",
        "    search_kwargs = {\"k\": 3}\n",
        "    )"
      ],
      "metadata": {
        "id": "pVSRhQ2IzPCX"
      },
      "execution_count": 12,
      "outputs": []
    },
    {
      "cell_type": "markdown",
      "source": [
        "## Modelos de chat y cadenas para consulta de información"
      ],
      "metadata": {
        "id": "-Aa6BcEhz4M2"
      }
    },
    {
      "cell_type": "code",
      "source": [
        "from langchain.chains import RetrievalQA\n",
        "from langchain_openai import AzureChatOpenAI\n",
        "\n",
        "chat = AzureChatOpenAI(\n",
        "    openai_api_version=\"2023-07-01-preview\",\n",
        "    azure_deployment=\"demo_gpt35\",\n",
        "    temperature=0.0\n",
        ")\n",
        "\n",
        "qa_chain = RetrievalQA.from_chain_type(\n",
        "    llm=chat,\n",
        "    chain_type=\"stuff\",\n",
        "    retriever=retriever\n",
        ")"
      ],
      "metadata": {
        "id": "qWh8kmmKz4y5"
      },
      "execution_count": 13,
      "outputs": []
    },
    {
      "cell_type": "code",
      "source": [
        "query = \"Existe alguna estimación del costo financiero de la reforma?\"\n",
        "qa_chain.run(query)"
      ],
      "metadata": {
        "colab": {
          "base_uri": "https://localhost:8080/",
          "height": 122
        },
        "id": "-AbFjcsJz8i7",
        "outputId": "fb7e910c-492c-4c09-883b-76fae85729a1"
      },
      "execution_count": 14,
      "outputs": [
        {
          "output_type": "stream",
          "name": "stderr",
          "text": [
            "/usr/local/lib/python3.10/dist-packages/langchain_core/_api/deprecation.py:117: LangChainDeprecationWarning: The function `run` was deprecated in LangChain 0.1.0 and will be removed in 0.2.0. Use invoke instead.\n",
            "  warn_deprecated(\n"
          ]
        },
        {
          "output_type": "execute_result",
          "data": {
            "text/plain": [
              "'Sí, se realizaron simulaciones y proyecciones financieras para abordar la sostenibilidad financiera del sistema de salud que se adopta con la reforma. Sin embargo, es importante tener en cuenta que un nuevo sistema de salud que se construye sobre lo construido hereda, desde el punto de vista financiero y con probable impacto fiscal, un conjunto de problemáticas asociadas a los desbalances que se vienen generando a la fecha. Por lo tanto, se efectúa un análisis riguroso de las condiciones de partida del proceso de reforma, evaluando los riesgos de sostenibilidad del mismo y el impacto en la gestión de riesgo en salud. Puedes encontrar más información en el Anexo 3 \"La Reforma al Sistema de Salud: un desafío de todos\". No se proporciona una cifra específica del costo financiero de la reforma.'"
            ],
            "application/vnd.google.colaboratory.intrinsic+json": {
              "type": "string"
            }
          },
          "metadata": {},
          "execution_count": 14
        }
      ]
    },
    {
      "cell_type": "code",
      "source": [
        "query = \"Que va a suceder con las Entidades Promotoras de Salud?\"\n",
        "qa_chain.run(query)"
      ],
      "metadata": {
        "colab": {
          "base_uri": "https://localhost:8080/",
          "height": 105
        },
        "id": "ZAWDxVwf0F_f",
        "outputId": "12264fec-ea85-4cdf-c66a-3dcf414a5355"
      },
      "execution_count": 15,
      "outputs": [
        {
          "output_type": "execute_result",
          "data": {
            "text/plain": [
              "'Las Entidades Promotoras de Salud permanecerán en el Sistema de Salud durante el proceso de transición y evolución hacia el nuevo Sistema. Escindirán progresivamente sus instituciones de prestación de servicios, de acuerdo al plan de implementación que determine el Ministerio de Salud y Protección Social. Durante su permanencia en el periodo de transición o cuando hagan su tránsito a instituciones prestadoras de servicios de salud a través de sus redes propias que funcionaban en el Sistema General de Seguridad Social en Salud, podrán concurrir en la organización y prestación de los servicios de los Centros de Atención Primaria Integral Resolutiva en Salud. Además, podrán acordar con el Ministerio de Salud y Protección social, la ADRES o las entidades territoriales, según corresponda, cuando decidan la suspensión de operaciones y no deseen transitar a la prestación de servicios de salud, la venta de infraestructura de servicios de salud u otras salud, la cual se hará en forma progresiva y ordenada, de manera que en ningún caso esta población quede desprotegida en su derecho fundamental a la salud.'"
            ],
            "application/vnd.google.colaboratory.intrinsic+json": {
              "type": "string"
            }
          },
          "metadata": {},
          "execution_count": 15
        }
      ]
    },
    {
      "cell_type": "code",
      "source": [
        "query = \"Que son los Centros de Atención Primaria Integral Resolutiva en Salud?\"\n",
        "qa_chain.run(query)"
      ],
      "metadata": {
        "colab": {
          "base_uri": "https://localhost:8080/",
          "height": 87
        },
        "id": "UM4A5sfq0S1I",
        "outputId": "4aca41bb-243b-48a8-f5e3-1ef4fda5fc8b"
      },
      "execution_count": 16,
      "outputs": [
        {
          "output_type": "execute_result",
          "data": {
            "text/plain": [
              "'Los Centros de Atención Primaria Integral Resolutiva en Salud son lugares que ofrecen servicios básicos de salud, programas de promoción de la salud, prevención de la enfermedad y referencia de pacientes hacia servicios de mediana o alta complejidad. Estos centros están habilitados para cuidar la salud y prevenir enfermedades en el grupo poblacional de su cobertura y solucionar inmediatamente sus requerimientos de atención básica y solicitudes de referencia y contrarreferencia a las redes de mediana y alta complejidad. En los centros urbanos, cada Centro de Atención Primaria Integral Resolutiva en Salud cubrirá como máximo 25.000 habitantes para garantizar la capacidad de cuidado de la salud y prevención de la enfermedad de dicho grupo poblacional y la solución inmediata de sus requerimientos de atención básica y solicitudes de referencia y contrarreferencia a las redes de mediana y alta complejidad.'"
            ],
            "application/vnd.google.colaboratory.intrinsic+json": {
              "type": "string"
            }
          },
          "metadata": {},
          "execution_count": 16
        }
      ]
    },
    {
      "cell_type": "code",
      "source": [
        "query = \"Que dice el texto de reforma acerca de los tipos de vinculación del personal de salud?\"\n",
        "qa_chain.run(query)"
      ],
      "metadata": {
        "colab": {
          "base_uri": "https://localhost:8080/",
          "height": 87
        },
        "id": "3URguzxt0Zdv",
        "outputId": "e8008fca-87ea-44a6-b415-658d08e75f23"
      },
      "execution_count": 17,
      "outputs": [
        {
          "output_type": "execute_result",
          "data": {
            "text/plain": [
              "'El texto menciona dos tipos de vinculación laboral para los trabajadores estatales de la salud en las Instituciones de Salud del Estado (ISE): los cargos de confianza, que son de libre nombramiento y remoción correspondientes a la conducción, orientación o directrices, y los demás servidores públicos que se rigen por el régimen especial desarrollado en el artículo 73. Además, se garantiza el derecho de permanencia de los servidores y se establece que el sistema de control interno se regirá por la Ley 87 de 1993 y la designación del responsable de la oficina se dará conforme a las Leyes 87 y 1474. Para las Instituciones Privadas y Mixtas del Sector Salud, se establece que las personas vinculadas estarán mediante contrato de trabajo conforme a los preceptos del Código Sustantivo del Trabajo y normas concordantes.'"
            ],
            "application/vnd.google.colaboratory.intrinsic+json": {
              "type": "string"
            }
          },
          "metadata": {},
          "execution_count": 17
        }
      ]
    },
    {
      "cell_type": "code",
      "source": [
        "query = \"Como se hara la distribución de recursos en el nuevo sistema?\"\n",
        "qa_chain.run(query)"
      ],
      "metadata": {
        "colab": {
          "base_uri": "https://localhost:8080/",
          "height": 105
        },
        "id": "dldkTnQ90noX",
        "outputId": "649acbe8-3f91-44cb-982b-661c8074aaad"
      },
      "execution_count": 18,
      "outputs": [
        {
          "output_type": "execute_result",
          "data": {
            "text/plain": [
              "'En el nuevo sistema de salud, la distribución de recursos será descentralizada y desconcentrada mediante un manejo técnico y transparente de los recursos. La Entidad Administradora de los Recursos del Sistema de Salud, ADRES, será quien administre los recursos públicos de la salud, parafiscales en el orden nacional, tal como indica los artículos del 21 al 33 del proyecto de ley. Los recursos del Fondo Único Público para la Salud a los Fondos Territoriales de Salud serán los mismos del Sistema General de Participaciones (SGP), la equidad y la rentabilidad social, en donde se establecen las normas de destinación y competencias nacionales, regionales y territoriales a través de los artículos del 34 al 52 del proyecto de Ley. La gestión del riesgo financiero estará a cargo del Estado a través de ADRES y la gestión del riesgo en salud en la Atención Primaria Integral en Salud en los territorios. Además, existirán instancias territoriales como el Consejos Regionales de Administración de Seguridad Social en Salud, Consejos Regionales de Planeación y Evaluación en Salud, Unidades Zonales de Planeación y Evaluación en Salud de orden Departamental y Distrital, las direcciones o secretarías de salud, Superintendencias regionales y oficinas regionales de ADRES, también llamadas Fondos Regionales.'"
            ],
            "application/vnd.google.colaboratory.intrinsic+json": {
              "type": "string"
            }
          },
          "metadata": {},
          "execution_count": 18
        }
      ]
    }
  ]
}