{
  "nbformat": 4,
  "nbformat_minor": 0,
  "metadata": {
    "colab": {
      "provenance": [],
      "include_colab_link": true
    },
    "kernelspec": {
      "name": "python3",
      "display_name": "Python 3"
    },
    "language_info": {
      "name": "python"
    }
  },
  "cells": [
    {
      "cell_type": "markdown",
      "metadata": {
        "id": "view-in-github",
        "colab_type": "text"
      },
      "source": [
        "<a href=\"https://colab.research.google.com/github/edgasanc85/AzureOpenAI/blob/main/ChatGPT_El_Camino_a_Cristo.ipynb\" target=\"_parent\"><img src=\"https://colab.research.google.com/assets/colab-badge.svg\" alt=\"Open In Colab\"/></a>"
      ]
    },
    {
      "cell_type": "markdown",
      "source": [
        "\n",
        "\n",
        "```\n",
        "# Tiene formato de código\n",
        "```\n",
        "\n",
        "# ChatBot basado en el libro EL CAMINO A CRISTO\n"
      ],
      "metadata": {
        "id": "X11QtSmiMV9e"
      }
    },
    {
      "cell_type": "markdown",
      "source": [
        "## Instalar librerías principales y configuración de API Key de OpenAI"
      ],
      "metadata": {
        "id": "drFyYyIWMavB"
      }
    },
    {
      "cell_type": "code",
      "source": [
        "%%capture\n",
        "!pip install langchain pypdf openai chromadb tiktoken"
      ],
      "metadata": {
        "id": "6Obq0zwZeDsb"
      },
      "execution_count": 1,
      "outputs": []
    },
    {
      "cell_type": "code",
      "source": [
        "%%capture\n",
        "!pip install langchain-openai"
      ],
      "metadata": {
        "id": "dFgu5XERp53p"
      },
      "execution_count": 16,
      "outputs": []
    },
    {
      "cell_type": "code",
      "source": [
        "from getpass import getpass\n",
        "import os\n",
        "import openai\n",
        "\n",
        "openai.api_type = \"azure\"\n",
        "openai.api_base = \"https://edgasancdemo.openai.azure.com/\"\n",
        "openai.api_version = \"2023-07-01-preview\"\n",
        "\n",
        "openai.api_key = getpass('Enter the secret value: ')\n",
        "os.environ['OPENAI_API_KEY'] = openai.api_key\n",
        "\n",
        "os.environ[\"AZURE_OPENAI_ENDPOINT\"] = openai.api_base\n",
        "os.environ[\"AZURE_OPENAI_API_KEY\"] = openai.api_key\n",
        "\n"
      ],
      "metadata": {
        "id": "dHG9AVJkh3Dz",
        "colab": {
          "base_uri": "https://localhost:8080/"
        },
        "outputId": "2ac82913-d027-4205-a9ee-71c83fce9d5c"
      },
      "execution_count": 18,
      "outputs": [
        {
          "name": "stdout",
          "output_type": "stream",
          "text": [
            "Enter the secret value: ··········\n"
          ]
        }
      ]
    },
    {
      "cell_type": "markdown",
      "source": [
        "## Carga de documents"
      ],
      "metadata": {
        "id": "4Z_Xi-GvMf8E"
      }
    },
    {
      "cell_type": "code",
      "execution_count": 19,
      "metadata": {
        "id": "W_6B2k3Vcfxt",
        "colab": {
          "base_uri": "https://localhost:8080/"
        },
        "outputId": "d9615b4e-1df1-439a-8964-4971cef413c8"
      },
      "outputs": [
        {
          "output_type": "stream",
          "name": "stdout",
          "text": [
            "Descargado paper1.pdf\n",
            "Contenido de ml_papers:\n",
            "\n"
          ]
        }
      ],
      "source": [
        "import requests\n",
        "from langchain.document_loaders import PyPDFLoader\n",
        "\n",
        "urls = [\n",
        "    'https://www.adven7.org/books/pdf/el_camino_a_cristo.pdf'\n",
        "]\n",
        "\n",
        "ml_papers = []\n",
        "\n",
        "for i, url in enumerate(urls):\n",
        "    response = requests.get(url)\n",
        "    filename = f'paper{i+1}.pdf'\n",
        "    with open(filename, 'wb') as f:\n",
        "        f.write(response.content)\n",
        "        print(f'Descargado {filename}')\n",
        "\n",
        "        loader = PyPDFLoader(filename)\n",
        "        data = loader.load()\n",
        "        ml_papers.extend(data)\n",
        "\n",
        "# Utiliza la lista ml_papers para acceder a los elementos de todos los documentos descargados\n",
        "print('Contenido de ml_papers:')\n",
        "print()"
      ]
    },
    {
      "cell_type": "code",
      "source": [
        "type(ml_papers), len(ml_papers), ml_papers[6]"
      ],
      "metadata": {
        "id": "UgT_gejveKq7",
        "colab": {
          "base_uri": "https://localhost:8080/"
        },
        "outputId": "a7a34532-b59d-4ee7-ff8f-cf3958f8598f"
      },
      "execution_count": 20,
      "outputs": [
        {
          "output_type": "execute_result",
          "data": {
            "text/plain": [
              "(list,\n",
              " 144,\n",
              " Document(page_content='7\\nque está en el seno del Padre, él le ha dado a conocer.”  (San\\nJuan 1: 18). “Ni al Padre conoce nadie, sino el Hijo, y\\naquel a quien el Hijo lo quisiere revelar.” (San Mateo 11:\\n27). Cuando uno de sus discípulos le dijo: “Muéstranos al\\nPadre”, Jesús respondió: “Tanto tiempo hace que estoy con\\nvosotros, ¿y todavía no me conoces, Felipe? El que me ha\\nvisto a mí, ha visto al Padre: ¿Cómo pues dices tú:\\nMuéstranos al Padre?” (San Juan 14: 8, 9).\\nJesús dijo, describiendo su misión terrenal: “Jehová me\\nha ungido para anunciar buenas nuevas a los pobres; me a\\nenviado para proclamar a los cautivos, y a los ciegos recobro\\nde la vista, para poner en libertad a los oprimidos...” (San\\nLucas 4: 18), esta era su obra. Pasó su vida haciendo bien y\\nsanando a todos los oprimidos de Satanás.\\nHabía aldeas enteras donde no se oía un gemido de\\ndolor en casa alguna, porque él había pasado por ellas y\\nsanado a todos sus enfermos. Su obra demostraba su divina\\nunción. En cada acto de su vida revelaba amor, misericor-\\ndia y compasión; su corazón rebosaba de tierna simpatía\\npor los hijos de los hombres. Tomó la naturaleza del hombre\\npara poder simpatizar con sus necesidades. Los más pobres\\ny humildes no tenían temor de allegársele. Aun los niñitos\\nse sentían atraídos hacia él. Les gustaba subir a sus rodillas\\ny contemplar ese rostro pensativo, que irradiaba benignidad\\ny amor, Jesús no suprimió una palabra de verdad, sino que\\nprofirió siempre la verdad con amor.\\nHablaba con el mayor tacto, cuidado y misericordiosa\\natención, en su trato con las gentes. Nunca fue áspero, nunca\\nhabló una palabra severa innecesariamente, nunca dio a un\\nalma sensible una pena innecesaria. No censuraba la\\ndebilidad humana. Hablaba la verdad, pero siempre con\\namor. Denunciaba la hipocresía, la incredulidad y la\\niniquidad; pero las lágrimas velaban su voz cuando profería\\nsus fuertes reprensiones. Lloró sobre Jerusalén, la ciudad\\namada que rehusó recibirlo, a él, el Camino, la Verdad y la\\nVida. Habían rechazado al Salvador, mas él los consideraba\\ncon piadosa ternura.\\nLa suya fue una vida de abnegación y verdaderaEl Amor de Dios por el Hombre', metadata={'source': 'paper1.pdf', 'page': 6}))"
            ]
          },
          "metadata": {},
          "execution_count": 20
        }
      ]
    },
    {
      "cell_type": "markdown",
      "source": [
        "## Split de documents"
      ],
      "metadata": {
        "id": "WJYjDA_GMi0Z"
      }
    },
    {
      "cell_type": "code",
      "source": [
        "from langchain.text_splitter import RecursiveCharacterTextSplitter\n",
        "\n",
        "text_splitter = RecursiveCharacterTextSplitter(\n",
        "    chunk_size= 1500,\n",
        "    chunk_overlap= 200, #caracteres que se repiten en el fragmento pasado y siguiente para que tenga continuidad\n",
        "    length_function= len\n",
        "    )\n",
        "\n",
        "documents = text_splitter.split_documents(ml_papers)"
      ],
      "metadata": {
        "id": "4caTdNe-hk7w"
      },
      "execution_count": 21,
      "outputs": []
    },
    {
      "cell_type": "code",
      "source": [
        "len(documents), documents[10]"
      ],
      "metadata": {
        "id": "koi4gwzthsGh",
        "colab": {
          "base_uri": "https://localhost:8080/"
        },
        "outputId": "4e63a6f2-2252-4451-dd7b-629a7bc9e903"
      },
      "execution_count": 22,
      "outputs": [
        {
          "output_type": "execute_result",
          "data": {
            "text/plain": [
              "(278,\n",
              " Document(page_content='7\\nque está en el seno del Padre, él le ha dado a conocer.”  (San\\nJuan 1: 18). “Ni al Padre conoce nadie, sino el Hijo, y\\naquel a quien el Hijo lo quisiere revelar.” (San Mateo 11:\\n27). Cuando uno de sus discípulos le dijo: “Muéstranos al\\nPadre”, Jesús respondió: “Tanto tiempo hace que estoy con\\nvosotros, ¿y todavía no me conoces, Felipe? El que me ha\\nvisto a mí, ha visto al Padre: ¿Cómo pues dices tú:\\nMuéstranos al Padre?” (San Juan 14: 8, 9).\\nJesús dijo, describiendo su misión terrenal: “Jehová me\\nha ungido para anunciar buenas nuevas a los pobres; me a\\nenviado para proclamar a los cautivos, y a los ciegos recobro\\nde la vista, para poner en libertad a los oprimidos...” (San\\nLucas 4: 18), esta era su obra. Pasó su vida haciendo bien y\\nsanando a todos los oprimidos de Satanás.\\nHabía aldeas enteras donde no se oía un gemido de\\ndolor en casa alguna, porque él había pasado por ellas y\\nsanado a todos sus enfermos. Su obra demostraba su divina\\nunción. En cada acto de su vida revelaba amor, misericor-\\ndia y compasión; su corazón rebosaba de tierna simpatía\\npor los hijos de los hombres. Tomó la naturaleza del hombre\\npara poder simpatizar con sus necesidades. Los más pobres\\ny humildes no tenían temor de allegársele. Aun los niñitos\\nse sentían atraídos hacia él. Les gustaba subir a sus rodillas\\ny contemplar ese rostro pensativo, que irradiaba benignidad\\ny amor, Jesús no suprimió una palabra de verdad, sino que\\nprofirió siempre la verdad con amor.', metadata={'source': 'paper1.pdf', 'page': 6}))"
            ]
          },
          "metadata": {},
          "execution_count": 22
        }
      ]
    },
    {
      "cell_type": "markdown",
      "source": [
        "## Embeddings e ingesta a base de datos vectorial"
      ],
      "metadata": {
        "id": "VuGSuQV6MmOA"
      }
    },
    {
      "cell_type": "code",
      "source": [
        "from langchain_openai import AzureOpenAIEmbeddings\n",
        "from langchain.vectorstores import Chroma\n",
        "\n",
        "embeddings = AzureOpenAIEmbeddings(\n",
        "    azure_deployment=\"demo_embedding-ada\",\n",
        "    openai_api_version=\"2023-07-01-preview\",\n",
        ")\n",
        "\n",
        "vectorstore = Chroma.from_documents(\n",
        "    documents=documents,\n",
        "    embedding=embeddings\n",
        ")\n",
        "\n",
        "retriever = vectorstore.as_retriever(\n",
        "    search_kwargs = {\"k\": 3}\n",
        "    )"
      ],
      "metadata": {
        "id": "iZ-ZFWgRh9aV"
      },
      "execution_count": 24,
      "outputs": []
    },
    {
      "cell_type": "markdown",
      "source": [
        "## Modelos de chat y cadenas para consulta de información"
      ],
      "metadata": {
        "id": "sBbAhkFKMrDC"
      }
    },
    {
      "cell_type": "code",
      "source": [
        "from langchain.chains import RetrievalQA\n",
        "from langchain_openai import AzureChatOpenAI\n",
        "\n",
        "chat = AzureChatOpenAI(\n",
        "    openai_api_version=\"2023-07-01-preview\",\n",
        "    azure_deployment=\"demo_gpt35\",\n",
        "    temperature=0.0\n",
        ")\n",
        "\n",
        "qa_chain = RetrievalQA.from_chain_type(\n",
        "    llm=chat,\n",
        "    chain_type=\"stuff\",\n",
        "    retriever=retriever\n",
        ")"
      ],
      "metadata": {
        "id": "fxjg2e6RiTqO"
      },
      "execution_count": 28,
      "outputs": []
    },
    {
      "cell_type": "code",
      "source": [
        "query = \"cual es la mayor necesidad del hombre?\"\n",
        "qa_chain.run(query)"
      ],
      "metadata": {
        "id": "qgDyf-lOimCT",
        "colab": {
          "base_uri": "https://localhost:8080/",
          "height": 53
        },
        "outputId": "aa1180c9-4ef3-4ddf-fa94-c2fb42d2f92f"
      },
      "execution_count": 29,
      "outputs": [
        {
          "output_type": "execute_result",
          "data": {
            "text/plain": [
              "'Según el texto proporcionado, la mayor necesidad del hombre es la comunión con Dios a través de la oración y la obediencia a sus requerimientos divinos. El hombre fue creado en armonía con Dios, pero su desobediencia lo alejó de Él y lo hizo cautivo de Satanás. Por lo tanto, la necesidad urgente del hombre es volver a estar en comunión con Dios y encontrar gozo en su presencia.'"
            ],
            "application/vnd.google.colaboratory.intrinsic+json": {
              "type": "string"
            }
          },
          "metadata": {},
          "execution_count": 29
        }
      ]
    },
    {
      "cell_type": "code",
      "source": [
        "query = \"por qué debo nacer de nuevo?\"\n",
        "qa_chain.run(query)"
      ],
      "metadata": {
        "id": "rfTiF52Bni8D",
        "colab": {
          "base_uri": "https://localhost:8080/",
          "height": 70
        },
        "outputId": "3733cc9f-7345-4707-db3f-17279438941f"
      },
      "execution_count": 30,
      "outputs": [
        {
          "output_type": "execute_result",
          "data": {
            "text/plain": [
              "'De acuerdo con la Biblia, es necesario nacer de nuevo para ser hecho participante de la vida que Cristo vino a dar y para ver el reino de Dios. El cambio de corazón por el cual somos hechos hijos de Dios se llama nacimiento, y se compara con la germinación de la buena semilla sembrada por el labrador. Los que están recién convertidos a Cristo son como \"niños recién nacidos\", \"creciendo\" a la estatura de hombres en Cristo Jesús. Es solamente mediante la vida de Dios como se engendra la vida espiritual en el corazón de los hombres.'"
            ],
            "application/vnd.google.colaboratory.intrinsic+json": {
              "type": "string"
            }
          },
          "metadata": {},
          "execution_count": 30
        }
      ]
    },
    {
      "cell_type": "code",
      "source": [
        "query = \"cómo profundizar nuestro caminar con Dios?\"\n",
        "qa_chain.run(query)"
      ],
      "metadata": {
        "id": "MmjAbVyUtLCF",
        "colab": {
          "base_uri": "https://localhost:8080/",
          "height": 87
        },
        "outputId": "58aba40b-9173-4448-e516-ecd09ddeda74"
      },
      "execution_count": 31,
      "outputs": [
        {
          "output_type": "execute_result",
          "data": {
            "text/plain": [
              "'El texto proporciona algunas sugerencias para profundizar nuestro caminar con Dios. Una de ellas es asociarnos con otros cristianos y hablar del amor de Dios y las verdades de la redención. También se menciona la importancia de aprender diariamente más de nuestro Padre celestial y obtener una nueva experiencia de su gracia. Además, se sugiere que debemos pensar y hablar más de Jesús y menos de nosotros mismos para tener más de su presencia. La meditación en la perfección del Salvador también es mencionada como una forma de desear ser transformados y renovados conforme a su imagen. Por último, se destaca la importancia de la oración sincera y tener un espíritu de amor y perdón en nuestro propio corazón al pedir misericordia y bendición de Dios.'"
            ],
            "application/vnd.google.colaboratory.intrinsic+json": {
              "type": "string"
            }
          },
          "metadata": {},
          "execution_count": 31
        }
      ]
    },
    {
      "cell_type": "code",
      "source": [
        "query = \"como orar para que las oraciones sean contestadas?\"\n",
        "qa_chain.run(query)"
      ],
      "metadata": {
        "id": "4qfwxnkAt_Q8",
        "colab": {
          "base_uri": "https://localhost:8080/",
          "height": 87
        },
        "outputId": "7b60b104-5c84-44ca-a2bb-a8d80ad7ba82"
      },
      "execution_count": 32,
      "outputs": [
        {
          "output_type": "execute_result",
          "data": {
            "text/plain": [
              "'Según el texto, hay ciertas condiciones que debemos cumplir para que nuestras oraciones sean contestadas. En primer lugar, debemos sentir la necesidad de la ayuda de Dios y buscarlo con humildad y fe. También es importante confesar nuestros pecados y arrepentirnos de ellos para que nuestras oraciones sean aceptadas. Debemos perdonar a los demás y ser perseverantes en la oración, manteniendo una unión continua del alma con Dios. Además, debemos estar abiertos a la influencia del Espíritu y tener un corazón dispuesto a recibir las bendiciones de Dios. En resumen, debemos buscar a Dios con sinceridad, humildad y fe, y cumplir las condiciones de aceptación para que nuestras oraciones sean contestadas.'"
            ],
            "application/vnd.google.colaboratory.intrinsic+json": {
              "type": "string"
            }
          },
          "metadata": {},
          "execution_count": 32
        }
      ]
    },
    {
      "cell_type": "code",
      "source": [
        "query = \"Como se hara justo un pecador?\"\n",
        "qa_chain.run(query)"
      ],
      "metadata": {
        "colab": {
          "base_uri": "https://localhost:8080/",
          "height": 70
        },
        "id": "YqMvrZrIZ5mY",
        "outputId": "af9798a6-c653-4e72-85f1-cecfab9faa70"
      },
      "execution_count": 33,
      "outputs": [
        {
          "output_type": "execute_result",
          "data": {
            "text/plain": [
              "'Según el contexto proporcionado, un pecador puede ser hecho justo a través de la gracia salvadora de Cristo. Cristo vivió una vida impecable, murió por nosotros y ofrece quitarnos nuestros pecados y vestirnos de su justicia. Si nos entregamos a él y lo aceptamos como nuestro Salvador, por pecaminosa que haya sido nuestra vida, seremos contados entre los justos por consideración a él. El carácter de Cristo toma el lugar del nuestro, y somos aceptados por Dios como si no hubiéramos pecado. Además, Cristo cambia el corazón y habita en nuestro corazón por la fe. Debemos mantener esta comunión con Cristo por la fe y la sumisión continua de nuestra voluntad a él.'"
            ],
            "application/vnd.google.colaboratory.intrinsic+json": {
              "type": "string"
            }
          },
          "metadata": {},
          "execution_count": 33
        }
      ]
    }
  ]
}