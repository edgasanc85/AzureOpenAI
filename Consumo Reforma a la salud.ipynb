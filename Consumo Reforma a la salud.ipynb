{
 "cells": [
  {
   "cell_type": "code",
   "execution_count": 1,
   "id": "882dd4b4-1263-47fd-92f6-f71dbf613984",
   "metadata": {},
   "outputs": [],
   "source": [
    "from getpass import getpass\n",
    "import os\n",
    "import openai\n",
    "\n",
    "openai.api_type = \"azure\"\n",
    "openai.api_version = \"2023-07-01-preview\"\n",
    "\n",
    "os.environ[\"AZURE_OPENAI_ENDPOINT\"] = \"https://edgasancdemo.openai.azure.com\"\n",
    "os.environ[\"AZURE_OPENAI_API_KEY\"] = \"57a41271b75040089f77ac694022a12d\""
   ]
  },
  {
   "cell_type": "code",
   "execution_count": 3,
   "id": "2872902e-cfe3-4e8b-bea9-1d18161615c3",
   "metadata": {},
   "outputs": [],
   "source": [
    "from langchain_openai import AzureOpenAIEmbeddings\n",
    "from langchain.vectorstores import Chroma\n",
    "\n",
    "embeddings = AzureOpenAIEmbeddings(\n",
    "    azure_deployment=\"demo_embedding-ada\",\n",
    "    openai_api_version=\"2023-07-01-preview\",\n",
    ")"
   ]
  },
  {
   "cell_type": "code",
   "execution_count": 5,
   "id": "2b45fa4d-5f9f-4a60-be03-9e6ad737a123",
   "metadata": {},
   "outputs": [],
   "source": [
    "from langchain.vectorstores import Chroma\n",
    "## Montar la base de datos CHROMADB\n",
    "vectordb = Chroma(persist_directory=\"./chroma_db\", embedding_function=embeddings)\n",
    "\n",
    "retriever = vectordb.as_retriever(\n",
    "    search_kwargs = {\"k\": 3}\n",
    ")"
   ]
  },
  {
   "cell_type": "code",
   "execution_count": 35,
   "id": "9aaebb37-45e9-493f-b4e6-17a1e22994c9",
   "metadata": {},
   "outputs": [],
   "source": [
    "from langchain.chains import RetrievalQA\n",
    "from langchain_openai import AzureChatOpenAI\n",
    "\n",
    "chat = AzureChatOpenAI(\n",
    "    openai_api_version=\"2023-07-01-preview\",\n",
    "    azure_deployment=\"demo_gpt35\",\n",
    "    temperature=0.0,\n",
    "    max_tokens=4000,\n",
    ")\n",
    "\n",
    "qa_chain = RetrievalQA.from_chain_type(\n",
    "    llm=chat,\n",
    "    chain_type=\"stuff\",\n",
    "    retriever=retriever\n",
    ")"
   ]
  },
  {
   "cell_type": "code",
   "execution_count": 29,
   "id": "242d6067-70bf-47f9-a99d-9a2c27865d45",
   "metadata": {},
   "outputs": [
    {
     "data": {
      "text/plain": [
       "'No se especifica en los fragmentos de contexto proporcionados qué se puede hacer en caso de que el paciente no reciba tratamientos o medicamentos. Sin embargo, se menciona que el derecho a la salud es autónomo e irrenunciable, tanto en lo individual como en lo colectivo, y comprende los servicios de salud de manera oportuna, eficaz y con calidad. Además, se establece que el médico tratante debe informar al paciente y a sus familiares sobre el personal especializado disponible en caso de que necesite este tipo de atención, para que pueda participar con autonomía en la elección del especialista. En caso de que existan discrepancias diagnósticas o terapéuticas, se puede acudir a la junta médica de la IPS o de la Red a la cual pertenezca el paciente y el prestador, para dirimir el conflicto o las diferencias alrededor de lo mejor que se le puede ofrecer al paciente y su familia.'"
      ]
     },
     "execution_count": 29,
     "metadata": {},
     "output_type": "execute_result"
    }
   ],
   "source": [
    "query = \"¿En caso de que el paciente no reciba tratamientos o medicamentos, qué se puede hacer? POr favor se muy detallado en la respuesta\"\n",
    "qa_chain.run(query)"
   ]
  },
  {
   "cell_type": "code",
   "execution_count": 31,
   "id": "5139f364-4c4c-4201-bf9c-b5643b16da65",
   "metadata": {},
   "outputs": [
    {
     "data": {
      "text/plain": [
       "'No se especifica en los fragmentos de contexto proporcionados si la reforma contempla cambios en los porcentajes de cotización de empleados y empleadores. El artículo 26 menciona que las cotizaciones del sistema de salud serán las previstas en el artículo 204 de la Ley 100 de 1992 y demás normas que la modifiquen, sustituyan o adicionen, en el entendido que ellas corresponderán al nuevo Sistema de Salud. Sin embargo, no se menciona si habrá cambios en los porcentajes de cotización.'"
      ]
     },
     "execution_count": 31,
     "metadata": {},
     "output_type": "execute_result"
    }
   ],
   "source": [
    "query = \"¿Esta reforma contempla cambios en los porcentajes de cotizacion de empleados y empleadores? POr favor se muy detallado en la respuesta\"\n",
    "qa_chain.run(query)"
   ]
  },
  {
   "cell_type": "code",
   "execution_count": 25,
   "id": "2923d149-5713-45c5-939e-cded7f8fd61f",
   "metadata": {},
   "outputs": [
    {
     "data": {
      "text/plain": [
       "'No se especifica en el texto si la reforma contempla cambios en los porcentajes de cotización de empleados y empleadores. El artículo 26 menciona que las cotizaciones del sistema de salud serán las previstas en la Ley 100 de 1992 y demás normas que la modifiquen, sustituyan o adicionen, en el entendido que ellas corresponden al nuevo Sistema de Salud.'"
      ]
     },
     "execution_count": 25,
     "metadata": {},
     "output_type": "execute_result"
    }
   ],
   "source": [
    "query = \"¿Esta reforma contempla cambios en los porcentajes de cotizacion de empleados y empleadores?\"\n",
    "qa_chain.run(query)"
   ]
  },
  {
   "cell_type": "code",
   "execution_count": 37,
   "id": "6dc59fb8-2140-4dec-88db-3d62e2be475c",
   "metadata": {},
   "outputs": [
    {
     "data": {
      "text/plain": [
       "'El ADRES (Administradora de los Recursos del Sistema General de Seguridad Social en Salud) es una entidad encargada de administrar los recursos del sistema de salud en Colombia. Su funcionamiento se basa en la desconcentración de la entidad para asumir la función de pagador único, lo que significa que se conformarán siete regionales y 33 oficinas departamentales para recibir y auditar en primera instancia tanto cuentas médicas como incapacidades y licencias, además del SOAT, que actualmente se audita centralizadamente.\\n\\nEl componente de prestación primaria será financiado por presupuestos tipo, lo que significa que no generará revisión de cuentas, aunque debe producir 200 millones de atenciones, con un promedio de tres a cuatro ítems por atención. Para el reconocimiento de servicios especializados y hospitalarios de exorbitantes costos, se establecen procedimientos especiales de contratación, conforme al Estatuto General de Contratación.\\n\\nAdemás, la ADRES tendrá funciones adicionales, como administrar los recursos parafiscales del orden nacional, los recursos de las cotizaciones en salud de trabajadores, empleadores, pensionados y rentistas de capital, los rendimientos financieros, administrar los recursos provenientes de los impuestos de armas, los recursos de salud destinados por las Cajas de Compensación de Salud del régimen subsidiado y administrar las demás cuentas del Fondo Único Público de Salud.\\n\\nEn resumen, el ADRES será responsable de administrar los recursos del sistema de salud en Colombia, con una estructura desconcentrada para garantizar una mayor eficiencia en la gestión de los recursos y una mayor transparencia en la auditoría de las cuentas médicas y los servicios prestados.'"
      ]
     },
     "execution_count": 37,
     "metadata": {},
     "output_type": "execute_result"
    }
   ],
   "source": [
    "query = \"¿Como sera el funcionamiento del ADRES? POr favor se muy detallado en la respuesta\"\n",
    "qa_chain.run(query)"
   ]
  },
  {
   "cell_type": "code",
   "execution_count": 25,
   "id": "f86c5a4e-ed5d-40db-9ae6-d36c6f93576a",
   "metadata": {},
   "outputs": [
    {
     "data": {
      "text/plain": [
       "'Según el texto, la estructura desconcentrada de ADRES contará con la participación regional para la toma de decisiones de forma más eficiente. También existirán instancias territoriales como el Consejos Regionales de Administración de Seguridad Social en Salud, Consejos Regionales de Planeación y Evaluación en Salud, Unidades Zonales de Planeación y Evaluación en Salud de orden Departamental y Distrital, las direcciones o secretarías de salud, Superintendencias regionales y oficinas regionales. Sin embargo, no se especifica cómo se manejará exactamente la desconcentración del ADRES.'"
      ]
     },
     "execution_count": 25,
     "metadata": {},
     "output_type": "execute_result"
    }
   ],
   "source": [
    "query = \"¿Como se manejara la desconcentracion del ADRES?\"\n",
    "qa_chain.run(query)"
   ]
  },
  {
   "cell_type": "code",
   "execution_count": 27,
   "id": "232f08b6-ab5f-48f2-967d-d42190019071",
   "metadata": {},
   "outputs": [
    {
     "data": {
      "text/plain": [
       "'El plan de beneficios es un conjunto de prestaciones y tecnologías en salud que incluye las fases de promoción de la salud, prevención, diagnóstico, tratamiento y paliación de la enfermedad, y se financia a través de las unidades de pago por capitación (UPC) que se reconocen mensualmente. Este plan garantiza a toda la población el Plan de salud pública de intervenciones colectivas (PIC), la Atención en accidentes de tránsito y eventos catastróficos (ATEP) para los casos de urgencias generadas en accidentes de tránsito y eventos catastróficos y, el Plan de Beneficios, antes denominado Plan Obligatorio de Salud (POS), para la protección integral de la enfermedad general y la maternidad. La actualización del plan de beneficios es un proceso de revisión integral permanente, continua, dinámica, participativa e incremental y ha sido realizada de manera anual.'"
      ]
     },
     "execution_count": 27,
     "metadata": {},
     "output_type": "execute_result"
    }
   ],
   "source": [
    "query = \"¿como funcionara el plan de beneficios?\"\n",
    "qa_chain.run(query)"
   ]
  },
  {
   "cell_type": "code",
   "execution_count": null,
   "id": "6d55bb07-453d-4728-a592-0ec6d00f7144",
   "metadata": {},
   "outputs": [],
   "source": []
  }
 ],
 "metadata": {
  "kernelspec": {
   "display_name": "anaconda-panel-2023.05-py310",
   "language": "python",
   "name": "conda-env-anaconda-panel-2023.05-py310-py"
  },
  "language_info": {
   "codemirror_mode": {
    "name": "ipython",
    "version": 3
   },
   "file_extension": ".py",
   "mimetype": "text/x-python",
   "name": "python",
   "nbconvert_exporter": "python",
   "pygments_lexer": "ipython3",
   "version": "3.11.5"
  }
 },
 "nbformat": 4,
 "nbformat_minor": 5
}
